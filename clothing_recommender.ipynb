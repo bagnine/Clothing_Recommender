{
 "metadata": {
  "language_info": {
   "codemirror_mode": {
    "name": "ipython",
    "version": 3
   },
   "file_extension": ".py",
   "mimetype": "text/x-python",
   "name": "python",
   "nbconvert_exporter": "python",
   "pygments_lexer": "ipython3",
   "version": "3.6.9-final"
  },
  "orig_nbformat": 2,
  "kernelspec": {
   "name": "python3",
   "display_name": "Python 3",
   "language": "python"
  }
 },
 "nbformat": 4,
 "nbformat_minor": 2,
 "cells": [
  {
   "source": [
    "# Visual Clothing Recommender\n",
    "\n",
    "Since the onset of the COVID-19 pandemic, online shopping has increased quarter over quarter by over 30%. While many retail platforms have completely re-designed themselves to optimize for the trend in online sales, seller to seller markets for the most part remain unchanged. \n",
    "\n",
    "For consumers who are trying to avoid fast fashion, or who want to shop based on item appearance rather than brand, sites like eBay, Etsy, Grailed, thredup and many others offer significant challenges. Because these sites rely on seller input to catalogue and organize their data, most items contain the same keywords designed to direct traffic. The massive number of listings can result in endless scrolling and hundreds of identical entries, leading to fatigue on the client's part. \n",
    "\n",
    "On the seller's side, it may be extremely difficult to market unique vintage products that would easily sell at an in-person market but don't fit conventional search criteria. \n",
    "\n",
    "Finally, for the host sites themselves, a more easily navigated interface could boost confidence in their brand and direct more traffic, sales and ad revenue. \n",
    "\n",
    "For this project, my proposed solution to the problems above is to create a platform capable of analyzing image data and recommending clothing based on color and appearance as well as conventional criteria like size or price. Here are a few ways that this platform could benefit the buyer, seller and host:\n",
    "\n",
    "* Buyers can use one listing to search for identical items at lower prices or in different sizes\n",
    "* Images from social media or music videos could be input into search engines to return similar results\n",
    "* Users could take photos of their existing wardrobe and search for items in different categories that match specific colors\n",
    "* International sellers could easily market items without being hindered by language barriers\n",
    "* Host sites can create sleek, visual interfaces to make the experience on their site more closely mimic in-person shopping"
   ],
   "cell_type": "markdown",
   "metadata": {}
  },
  {
   "source": [
    "## This Notebook\n",
    "\n",
    "This notebook contains a condensed summary of the steps used to process data, create recommender models and evaluate them. For a more in depth look at the process used to gather the data and pre-process the images used in this notebook, please see the image_process and data_import notebooks. For data cleaning, see the EDA notebook. For a more in-depth look at the modeling process, see the model notebook. All four can be found in this [github repo](http://github.com/bagnine/Clothing_Recommender/)."
   ],
   "cell_type": "markdown",
   "metadata": {}
  },
  {
   "source": [
    "## Importing Libraries and Data"
   ],
   "cell_type": "markdown",
   "metadata": {}
  },
  {
   "cell_type": "code",
   "execution_count": 1,
   "metadata": {},
   "outputs": [],
   "source": [
    "# Basic data and visualization libraries\n",
    "import pandas as pd\n",
    "import numpy as np\n",
    "import matplotlib.pyplot as plt\n",
    "import seaborn as sns \n",
    "\n",
    "# Natural language processing\n",
    "import re\n",
    "import nltk\n",
    "from nltk import RegexpTokenizer\n",
    "from nltk.corpus import stopwords\n",
    "from sklearn.feature_extraction.text import TfidfVectorizer\n",
    "\n",
    "# Image processing/manipulation\n",
    "from PIL import Image\n",
    "import cv2 as cv\n",
    "from colorthief import ColorThief\n",
    "\n",
    "# Modeling tools and evaluation metrics\n",
    "from sklearn.metrics.pairwise import cosine_similarity\n",
    "import scipy.spatial.distance as dist\n",
    "from sklearn.preprocessing import StandardScaler\n",
    "from sklearn.metrics import calinski_harabasz_score\n",
    "from sklearn.cluster import KMeans\n",
    "from sklearn.neighbors import NearestNeighbors\n",
    "\n",
    "# System tools\n",
    "import os\n",
    "import sys\n",
    "sys.path.append('./src/modules')\n",
    "\n",
    "# Modules created for this project\n",
    "import EDA\n",
    "import image_process\n",
    "import model"
   ]
  },
  {
   "cell_type": "code",
   "execution_count": 5,
   "metadata": {},
   "outputs": [],
   "source": [
    "modeldf = pd.read_csv('./src/data/model_data.csv')\n",
    "colordf = pd.read_csv('./src/data/colors.csv')"
   ]
  },
  {
   "cell_type": "code",
   "execution_count": null,
   "metadata": {},
   "outputs": [],
   "source": []
  }
 ]
}